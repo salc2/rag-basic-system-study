{
 "cells": [
  {
   "cell_type": "code",
   "execution_count": null,
   "id": "733e8484",
   "metadata": {},
   "outputs": [],
   "source": [
    "import os\n",
    "from dotenv import load_dotenv\n",
    "\n",
    "load_dotenv()\n",
    "\n",
    "# OPENAI_API_KEY = os.getenv(\"OPENAI_API_KEY\")\n",
    "# MODEL = \"llama2\"\n",
    "MODEL = \"gemma3n:e2b\""
   ]
  },
  {
   "cell_type": "code",
   "execution_count": null,
   "id": "d986cb9e",
   "metadata": {},
   "outputs": [
    {
     "ename": "ModuleNotFoundError",
     "evalue": "No module named 'langchain_huggingface'",
     "output_type": "error",
     "traceback": [
      "\u001b[31m---------------------------------------------------------------------------\u001b[39m",
      "\u001b[31mModuleNotFoundError\u001b[39m                       Traceback (most recent call last)",
      "\u001b[36mCell\u001b[39m\u001b[36m \u001b[39m\u001b[32mIn[26]\u001b[39m\u001b[32m, line 3\u001b[39m\n\u001b[32m      1\u001b[39m \u001b[38;5;28;01mfrom\u001b[39;00m\u001b[38;5;250m \u001b[39m\u001b[34;01mlangchain_community\u001b[39;00m\u001b[34;01m.\u001b[39;00m\u001b[34;01mllms\u001b[39;00m\u001b[38;5;250m \u001b[39m\u001b[38;5;28;01mimport\u001b[39;00m Ollama\n\u001b[32m      2\u001b[39m \u001b[38;5;28;01mfrom\u001b[39;00m\u001b[38;5;250m \u001b[39m\u001b[34;01mlangchain_community\u001b[39;00m\u001b[34;01m.\u001b[39;00m\u001b[34;01membeddings\u001b[39;00m\u001b[38;5;250m \u001b[39m\u001b[38;5;28;01mimport\u001b[39;00m OllamaEmbeddings\n\u001b[32m----> \u001b[39m\u001b[32m3\u001b[39m \u001b[38;5;28;01mfrom\u001b[39;00m\u001b[38;5;250m \u001b[39m\u001b[34;01mlangchain_huggingface\u001b[39;00m\u001b[34;01m.\u001b[39;00m\u001b[34;01membeddings\u001b[39;00m\u001b[38;5;250m \u001b[39m\u001b[38;5;28;01mimport\u001b[39;00m HuggingFaceEmbeddings\n\u001b[32m      4\u001b[39m \u001b[38;5;28;01mfrom\u001b[39;00m\u001b[38;5;250m \u001b[39m\u001b[34;01mlangchain_core\u001b[39;00m\u001b[34;01m.\u001b[39;00m\u001b[34;01moutput_parsers\u001b[39;00m\u001b[38;5;250m \u001b[39m\u001b[38;5;28;01mimport\u001b[39;00m StrOutputParser\n\u001b[32m      6\u001b[39m parser = StrOutputParser()\n",
      "\u001b[31mModuleNotFoundError\u001b[39m: No module named 'langchain_huggingface'"
     ]
    }
   ],
   "source": [
    "from langchain_community.llms import Ollama\n",
    "from langchain_community.embeddings import OllamaEmbeddings\n",
    "from langchain_core.output_parsers import StrOutputParser\n",
    "\n",
    "parser = StrOutputParser()\n",
    "\n",
    "model = Ollama(model = MODEL)\n",
    "embedding = OllamaEmbeddings()\n",
    "chat = model | parser\n"
   ]
  },
  {
   "cell_type": "code",
   "execution_count": 16,
   "id": "2282e5fa",
   "metadata": {},
   "outputs": [
    {
     "data": {
      "text/plain": [
       "\"\\nWhy don't scientists trust atoms? Because they make up everything! 😂\""
      ]
     },
     "execution_count": 16,
     "metadata": {},
     "output_type": "execute_result"
    }
   ],
   "source": [
    "chat.invoke(\"tell me something funny\")"
   ]
  },
  {
   "cell_type": "code",
   "execution_count": 17,
   "id": "9c2d0b9c",
   "metadata": {},
   "outputs": [
    {
     "data": {
      "text/plain": [
       "[Document(metadata={'producer': 'Skia/PDF m138', 'creator': 'Mozilla/5.0 (Macintosh; Intel Mac OS X 10_15_7) AppleWebKit/537.36 (KHTML, like Gecko) Chrome/138.0.0.0 Safari/537.36', 'creationdate': '2025-09-11T11:30:06+00:00', 'title': '(1) LinkedIn', 'moddate': '2025-09-11T11:30:06+00:00', 'source': 'jobspecs.pdf', 'total_pages': 4, 'page': 0, 'page_label': '1'}, page_content=\"Few&Far\\nLead Backend Engineer\\n£90K/yr - £110K/yr Hybrid Full-time\\nEasy Apply Save\\nLondon Area, United Kingdom·3 weeks ago·Over 100 applicants\\nPromoted by hirer·Actively reviewing applicants\\nHow your profile and resume fit this job\\nGet AI-powered advice on this job and more exclusive features with Premium.Reactivate Premium\\nTailor my resume to this job Am I a good fit for this job?\\nPeople you can reach out to\\nTré and others in your network Show all\\nMeet the hiring team\\nGeorge Dix2ndBuilding Software Engineering teams for start-ups& scale-ups @ Few&FarJob poster · 4 mutual connections\\nMessage\\nAbout the job\\nLead Software Engineer - Python 🚀Salary - £90,000 - £110,000Health-Tech Startup 🙌London, London - Hybrid (1 day Kings Cross) 👌Founded - 2022 😎£3million Seed Funding 💰\\nI am partnered with a Health-Tech Startup revolutionising healthcare by tacklingone of the NHSʼs biggest challenges — Missed appointments and the growingwaitlist, through the power of AI & ML.\\nFounded in 2022, the company is on the verge of raising £3 million in Seedfunding, setting the stage for significant growth. 🚀\\nThe Role - Lead Backend Engineer\\nThey are now looking for a highly skilled Lead Backend Engineer to join theirgrowing team. This is a crucial role as they embark on their next phase ofexpansion. You'll be 100% hands-on, with the opportunity to step into aleadership role as the team scales.\\nTech Stack -Python, FastAPI, AWS, Typescript, PostgreSQL, NumPy, Pandas\\nWhat Youʼll Be Doing -\\nDesigning, building, and maintaining scalable backend systems for AI-driven healthcare solutions.Working closely with the ML engineers to integrate AI/ML models intoproduction.Ensuring system reliability, security, and performance.\\nHome My Network Jobs MessagingNotifications Me\\n For Business\\nReactivatePremium: 50% Off\\n1\"),\n",
       " Document(metadata={'producer': 'Skia/PDF m138', 'creator': 'Mozilla/5.0 (Macintosh; Intel Mac OS X 10_15_7) AppleWebKit/537.36 (KHTML, like Gecko) Chrome/138.0.0.0 Safari/537.36', 'creationdate': '2025-09-11T11:30:06+00:00', 'title': '(1) LinkedIn', 'moddate': '2025-09-11T11:30:06+00:00', 'source': 'jobspecs.pdf', 'total_pages': 4, 'page': 1, 'page_label': '2'}, page_content=\"More jobs\\nSee less\\nDriving best practices in backend engineering and mentoring juniordevelopers as the team grows.Collaborating with stakeholders to define technical roadmaps andarchitecture decisions.\\nWhatʼs in it for You?\\n💰  Salary: £90,000 - £110,000 + Equity📍  Hybrid work setup—London office (Kingʼs Cross) 1 day a week🚀  The chance to be part of a fast-growing startup making a real impactin healthcare📈  Career growth with the opportunity to transition into a leadership role\\nApply if interested!\\nSet alert for similar jobs\\nBack End Developer, London Area, United Kingdom Off\\nUnlock hiring insights on Few&Far\\n89%Employee growth Applicanteducationlevel\\n26%\\nhave aMaster'sDegree\\nApplicantsenioritylevel\\n60%\\nSenior levelapplicants\\nReactivate Premium\\nCancel anytime. No hidden fees.\\nSept 2024 Mar 2025 Sept 2025\\nAbout the company\\nFew&Far170,458 followers Follow\\nStaffing and Recruiting•11-50 employees•36 on LinkedIn\\nShow more\\nWe're a top-rated recruitment company for product development teams with over200 5* Google reviews.… …show more\\nBack End DeveloperWeDoUnited Kingdom (Remote)\\nActively reviewing applicants\\n1 week ago Easy Apply\\nBackend DevelopereTeamLondon Area, United Kingdom(Hybrid)\\nActively reviewing applicants\\n3 weeks ago Easy Apply\\nBack End Developer\\n Senior Software Engineer\"),\n",
       " Document(metadata={'producer': 'Skia/PDF m138', 'creator': 'Mozilla/5.0 (Macintosh; Intel Mac OS X 10_15_7) AppleWebKit/537.36 (KHTML, like Gecko) Chrome/138.0.0.0 Safari/537.36', 'creationdate': '2025-09-11T11:30:06+00:00', 'title': '(1) LinkedIn', 'moddate': '2025-09-11T11:30:06+00:00', 'source': 'jobspecs.pdf', 'total_pages': 4, 'page': 2, 'page_label': '3'}, page_content='See more jobs like this\\nPropelUnited Kingdom (Remote)\\nCompany review time istypically 1 week\\n19 hours ago Easy Apply\\nHandshaikLondon Area, United Kingdom(Remote)\\n1 day ago Easy Apply\\nFlask Python AI Engineerwith LangChain Experience– UK RemoteKalisaUnited Kingdom (Remote)\\nActively reviewing applicants\\n1 week ago Easy Apply\\nBackend EngineerFruition GroupEngland, United Kingdom(Remote)\\nActively reviewing applicants\\n4 weeks ago Easy Apply\\nBack End DeveloperDew SoftwareUnited Kingdom (Remote)\\nCompany review time istypically 1 week\\n1 day ago Easy Apply\\nSenior Backend EngineerNuitéeUnited Kingdom (Remote)\\n2 days ago\\nBackend Platform EngineerFruition GroupUnited Kingdom (Remote)\\nActively reviewing applicants\\n2 weeks ago Easy Apply\\nBack End DeveloperSetmixerUnited Kingdom (Remote)\\n2 days ago\\nSenior Back End Engineer(AWS)TrustedUnited Kingdom (Remote)\\n£80K/yr - £90K/yr\\nActively reviewing applicants\\n1 week ago Easy Apply\\nSenior Backend EngineerPrism DigitalUnited Kingdom (Remote)\\n£70K/yr - £80K/yr\\nActively reviewing applicants\\n1 week ago Easy Apply\\nJob search smarter with Premium\\nPremium members are up to 2.6x more likely to get hired. Plus! Get ahead withexclusive access to influential business leaders.\\nDragan and millions of other members use Premium\\nReactivate Premium: 50% Off\\nCancel anytime. No hidden fees.\\nLooking for talent?Post a job')]"
      ]
     },
     "execution_count": 17,
     "metadata": {},
     "output_type": "execute_result"
    }
   ],
   "source": [
    "from langchain_community.document_loaders import PyPDFLoader\n",
    "\n",
    "loader = PyPDFLoader(\"jobspecs.pdf\")\n",
    "pages = loader.load_and_split()\n",
    "pages"
   ]
  },
  {
   "cell_type": "code",
   "execution_count": 18,
   "id": "f94859ac",
   "metadata": {},
   "outputs": [
    {
     "data": {
      "text/plain": [
       "\"\\nAnswear the question based on the context below, if you can't answear the question\\nreply with 'I don't know'\\n\\nContext: there is some context\\n\\nQuestion: there is some question\\n\\n\""
      ]
     },
     "execution_count": 18,
     "metadata": {},
     "output_type": "execute_result"
    }
   ],
   "source": [
    "from langchain.prompts import PromptTemplate\n",
    "\n",
    "template = \"\"\"\n",
    "Answear the question based on the context below, if you can't answear the question\n",
    "reply with 'I don't know'\n",
    "\n",
    "Context: {context}\n",
    "\n",
    "Question: {question}\n",
    "\n",
    "\"\"\"\n",
    "\n",
    "prompt = PromptTemplate.from_template(template)\n",
    "prompt.format(question = \"there is some question\", context = \"there is some context\")"
   ]
  },
  {
   "cell_type": "code",
   "execution_count": 19,
   "id": "bbfcb334",
   "metadata": {},
   "outputs": [
    {
     "data": {
      "text/plain": [
       "\" Sure! Based on the context you provided, my answer to your question would be:\\n\\nI am currently in England, and the weather is very bad. It's raining heavily and the wind is quite strong.\""
      ]
     },
     "execution_count": 19,
     "metadata": {},
     "output_type": "execute_result"
    }
   ],
   "source": [
    "chat = prompt | model | parser\n",
    "chat.invoke({\"context\": \"I am on England and weather is very bad\", \"question\":\"what country you currently at and how is the weather?\"})"
   ]
  },
  {
   "cell_type": "code",
   "execution_count": 20,
   "id": "bda97dff",
   "metadata": {},
   "outputs": [
    {
     "name": "stderr",
     "output_type": "stream",
     "text": [
      "/tmp/ipykernel_28579/3594136560.py:1: PydanticDeprecatedSince20: The `schema` method is deprecated; use `model_json_schema` instead. Deprecated in Pydantic V2.0 to be removed in V3.0. See Pydantic V2 Migration Guide at https://errors.pydantic.dev/2.11/migration/\n",
      "  chat.input_schema.schema()\n"
     ]
    },
    {
     "data": {
      "text/plain": [
       "{'properties': {'context': {'title': 'Context', 'type': 'string'},\n",
       "  'question': {'title': 'Question', 'type': 'string'}},\n",
       " 'required': ['context', 'question'],\n",
       " 'title': 'PromptInput',\n",
       " 'type': 'object'}"
      ]
     },
     "execution_count": 20,
     "metadata": {},
     "output_type": "execute_result"
    }
   ],
   "source": [
    "chat.input_schema.schema()"
   ]
  },
  {
   "cell_type": "code",
   "execution_count": 21,
   "id": "29afcccc",
   "metadata": {},
   "outputs": [],
   "source": [
    "from langchain_community.vectorstores import DocArrayInMemorySearch\n",
    "\n",
    "vectorstore = DocArrayInMemorySearch.from_documents(pages, embedding=embedding)"
   ]
  },
  {
   "cell_type": "code",
   "execution_count": 22,
   "id": "c70157ee",
   "metadata": {},
   "outputs": [
    {
     "data": {
      "text/plain": [
       "[Document(metadata={'producer': 'Skia/PDF m138', 'creator': 'Mozilla/5.0 (Macintosh; Intel Mac OS X 10_15_7) AppleWebKit/537.36 (KHTML, like Gecko) Chrome/138.0.0.0 Safari/537.36', 'creationdate': '2025-09-11T11:30:06+00:00', 'title': '(1) LinkedIn', 'moddate': '2025-09-11T11:30:06+00:00', 'source': 'jobspecs.pdf', 'total_pages': 4, 'page': 1, 'page_label': '2'}, page_content=\"More jobs\\nSee less\\nDriving best practices in backend engineering and mentoring juniordevelopers as the team grows.Collaborating with stakeholders to define technical roadmaps andarchitecture decisions.\\nWhatʼs in it for You?\\n💰  Salary: £90,000 - £110,000 + Equity📍  Hybrid work setup—London office (Kingʼs Cross) 1 day a week🚀  The chance to be part of a fast-growing startup making a real impactin healthcare📈  Career growth with the opportunity to transition into a leadership role\\nApply if interested!\\nSet alert for similar jobs\\nBack End Developer, London Area, United Kingdom Off\\nUnlock hiring insights on Few&Far\\n89%Employee growth Applicanteducationlevel\\n26%\\nhave aMaster'sDegree\\nApplicantsenioritylevel\\n60%\\nSenior levelapplicants\\nReactivate Premium\\nCancel anytime. No hidden fees.\\nSept 2024 Mar 2025 Sept 2025\\nAbout the company\\nFew&Far170,458 followers Follow\\nStaffing and Recruiting•11-50 employees•36 on LinkedIn\\nShow more\\nWe're a top-rated recruitment company for product development teams with over200 5* Google reviews.… …show more\\nBack End DeveloperWeDoUnited Kingdom (Remote)\\nActively reviewing applicants\\n1 week ago Easy Apply\\nBackend DevelopereTeamLondon Area, United Kingdom(Hybrid)\\nActively reviewing applicants\\n3 weeks ago Easy Apply\\nBack End Developer\\n Senior Software Engineer\"),\n",
       " Document(metadata={'producer': 'Skia/PDF m138', 'creator': 'Mozilla/5.0 (Macintosh; Intel Mac OS X 10_15_7) AppleWebKit/537.36 (KHTML, like Gecko) Chrome/138.0.0.0 Safari/537.36', 'creationdate': '2025-09-11T11:30:06+00:00', 'title': '(1) LinkedIn', 'moddate': '2025-09-11T11:30:06+00:00', 'source': 'jobspecs.pdf', 'total_pages': 4, 'page': 0, 'page_label': '1'}, page_content=\"Few&Far\\nLead Backend Engineer\\n£90K/yr - £110K/yr Hybrid Full-time\\nEasy Apply Save\\nLondon Area, United Kingdom·3 weeks ago·Over 100 applicants\\nPromoted by hirer·Actively reviewing applicants\\nHow your profile and resume fit this job\\nGet AI-powered advice on this job and more exclusive features with Premium.Reactivate Premium\\nTailor my resume to this job Am I a good fit for this job?\\nPeople you can reach out to\\nTré and others in your network Show all\\nMeet the hiring team\\nGeorge Dix2ndBuilding Software Engineering teams for start-ups& scale-ups @ Few&FarJob poster · 4 mutual connections\\nMessage\\nAbout the job\\nLead Software Engineer - Python 🚀Salary - £90,000 - £110,000Health-Tech Startup 🙌London, London - Hybrid (1 day Kings Cross) 👌Founded - 2022 😎£3million Seed Funding 💰\\nI am partnered with a Health-Tech Startup revolutionising healthcare by tacklingone of the NHSʼs biggest challenges — Missed appointments and the growingwaitlist, through the power of AI & ML.\\nFounded in 2022, the company is on the verge of raising £3 million in Seedfunding, setting the stage for significant growth. 🚀\\nThe Role - Lead Backend Engineer\\nThey are now looking for a highly skilled Lead Backend Engineer to join theirgrowing team. This is a crucial role as they embark on their next phase ofexpansion. You'll be 100% hands-on, with the opportunity to step into aleadership role as the team scales.\\nTech Stack -Python, FastAPI, AWS, Typescript, PostgreSQL, NumPy, Pandas\\nWhat Youʼll Be Doing -\\nDesigning, building, and maintaining scalable backend systems for AI-driven healthcare solutions.Working closely with the ML engineers to integrate AI/ML models intoproduction.Ensuring system reliability, security, and performance.\\nHome My Network Jobs MessagingNotifications Me\\n For Business\\nReactivatePremium: 50% Off\\n1\"),\n",
       " Document(metadata={'producer': 'Skia/PDF m138', 'creator': 'Mozilla/5.0 (Macintosh; Intel Mac OS X 10_15_7) AppleWebKit/537.36 (KHTML, like Gecko) Chrome/138.0.0.0 Safari/537.36', 'creationdate': '2025-09-11T11:30:06+00:00', 'title': '(1) LinkedIn', 'moddate': '2025-09-11T11:30:06+00:00', 'source': 'jobspecs.pdf', 'total_pages': 4, 'page': 2, 'page_label': '3'}, page_content='See more jobs like this\\nPropelUnited Kingdom (Remote)\\nCompany review time istypically 1 week\\n19 hours ago Easy Apply\\nHandshaikLondon Area, United Kingdom(Remote)\\n1 day ago Easy Apply\\nFlask Python AI Engineerwith LangChain Experience– UK RemoteKalisaUnited Kingdom (Remote)\\nActively reviewing applicants\\n1 week ago Easy Apply\\nBackend EngineerFruition GroupEngland, United Kingdom(Remote)\\nActively reviewing applicants\\n4 weeks ago Easy Apply\\nBack End DeveloperDew SoftwareUnited Kingdom (Remote)\\nCompany review time istypically 1 week\\n1 day ago Easy Apply\\nSenior Backend EngineerNuitéeUnited Kingdom (Remote)\\n2 days ago\\nBackend Platform EngineerFruition GroupUnited Kingdom (Remote)\\nActively reviewing applicants\\n2 weeks ago Easy Apply\\nBack End DeveloperSetmixerUnited Kingdom (Remote)\\n2 days ago\\nSenior Back End Engineer(AWS)TrustedUnited Kingdom (Remote)\\n£80K/yr - £90K/yr\\nActively reviewing applicants\\n1 week ago Easy Apply\\nSenior Backend EngineerPrism DigitalUnited Kingdom (Remote)\\n£70K/yr - £80K/yr\\nActively reviewing applicants\\n1 week ago Easy Apply\\nJob search smarter with Premium\\nPremium members are up to 2.6x more likely to get hired. Plus! Get ahead withexclusive access to influential business leaders.\\nDragan and millions of other members use Premium\\nReactivate Premium: 50% Off\\nCancel anytime. No hidden fees.\\nLooking for talent?Post a job')]"
      ]
     },
     "execution_count": 22,
     "metadata": {},
     "output_type": "execute_result"
    }
   ],
   "source": [
    "retriever = vectorstore.as_retriever()\n",
    "\n",
    "retriever.invoke(\"Passangers\")"
   ]
  },
  {
   "cell_type": "code",
   "execution_count": 23,
   "id": "e0268e17",
   "metadata": {},
   "outputs": [],
   "source": [
    "from operator import itemgetter\n",
    "chat = (\n",
    "    {\n",
    "        \"context\": itemgetter(\"question\") | retriever , \n",
    "        \"question\": itemgetter(\"question\")\n",
    "    } | prompt | model | parser\n",
    ")"
   ]
  },
  {
   "cell_type": "code",
   "execution_count": 25,
   "id": "d714a6e3",
   "metadata": {},
   "outputs": [
    {
     "name": "stdout",
     "output_type": "stream",
     "text": [
      "question: what location is this job in?\n",
      "answear:  Based on the provided document, the job is located in London, United Kingdom.\n",
      "question: can this job be remotely\n",
      "answear: I don't know the answer to your question as the context provided does not mention anything about remote work.\n",
      "question: what is the salary?\n",
      "answear: I don't know the exact salary for the position of Lead Backend Engineer at Few&Far as the document you provided doesn't mention it explicitly. The document only mentions that the salary range is £90,000 - £110,000, but it doesn't provide any specific information about the exact salary for the position.\n",
      "question: what skills do we need to have?\n",
      "answear:  Based on the information provided in the document, the skills required for the Back End Developer position are:\n",
      "\n",
      "1. Python: The job posting mentions that the company uses Python, FastAPI, AWS, Typescript, PostgreSQL, NumPy, and Pandas, so proficiency in Python is essential.\n",
      "2. Experience with backend engineering: The role involves designing, building, and maintaining scalable backend systems, so experience in backend engineering is necessary.\n",
      "3. Collaboration with stakeholders: The job posting mentions that the Back End Developer will work closely with ML engineers to integrate AI/ML models into production, so the ability to collaborate with stakeholders is important.\n",
      "4. Hybrid work setup: The job posting mentions that the company offers a hybrid work setup with one day per week in the London office (King's Cross), so flexibility in terms of work location is necessary.\n",
      "5. Equity: The job posting mentions that the salary range is £90,000 - £110,000 + Equity, so an understanding of equity and its role in compensation is important.\n",
      "6. Career growth: The job posting mentions that there is opportunity for career growth with the possibility of transitioning into a leadership role, so a willingness to learn and grow is necessary.\n"
     ]
    }
   ],
   "source": [
    "questions = [\n",
    "    \"what location is this job in?\",\n",
    "    \"can this job be remotely\",\n",
    "    \"what is the salary?\",\n",
    "    \"what skills do we need to have?\"\n",
    "]\n",
    "\n",
    "for question in questions:\n",
    "    print(f\"question: {question}\")\n",
    "    answ = chat.invoke({\"question\": question})\n",
    "    print(f\"answear: {answ}\")"
   ]
  },
  {
   "cell_type": "code",
   "execution_count": null,
   "id": "59665a7d",
   "metadata": {},
   "outputs": [],
   "source": []
  }
 ],
 "metadata": {
  "kernelspec": {
   "display_name": "Python 3",
   "language": "python",
   "name": "python3"
  },
  "language_info": {
   "codemirror_mode": {
    "name": "ipython",
    "version": 3
   },
   "file_extension": ".py",
   "mimetype": "text/x-python",
   "name": "python",
   "nbconvert_exporter": "python",
   "pygments_lexer": "ipython3",
   "version": "3.12.9"
  }
 },
 "nbformat": 4,
 "nbformat_minor": 5
}
