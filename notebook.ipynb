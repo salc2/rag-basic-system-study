{
 "cells": [
  {
   "cell_type": "code",
   "execution_count": 1,
   "id": "733e8484",
   "metadata": {},
   "outputs": [],
   "source": [
    "import os\n",
    "from dotenv import load_dotenv\n",
    "\n",
    "load_dotenv()\n",
    "\n",
    "# OPENAI_API_KEY = os.getenv(\"OPENAI_API_KEY\")\n",
    "MODEL = \"llama2\""
   ]
  },
  {
   "cell_type": "code",
   "execution_count": 2,
   "id": "d986cb9e",
   "metadata": {},
   "outputs": [
    {
     "name": "stderr",
     "output_type": "stream",
     "text": [
      "/tmp/ipykernel_28579/4230599585.py:7: LangChainDeprecationWarning: The class `Ollama` was deprecated in LangChain 0.3.1 and will be removed in 1.0.0. An updated version of the class exists in the :class:`~langchain-ollama package and should be used instead. To use it run `pip install -U :class:`~langchain-ollama` and import as `from :class:`~langchain_ollama import OllamaLLM``.\n",
      "  model = Ollama(model = MODEL)\n",
      "/tmp/ipykernel_28579/4230599585.py:8: LangChainDeprecationWarning: The class `OllamaEmbeddings` was deprecated in LangChain 0.3.1 and will be removed in 1.0.0. An updated version of the class exists in the :class:`~langchain-ollama package and should be used instead. To use it run `pip install -U :class:`~langchain-ollama` and import as `from :class:`~langchain_ollama import OllamaEmbeddings``.\n",
      "  embedding = OllamaEmbeddings()\n"
     ]
    }
   ],
   "source": [
    "from langchain_community.llms import Ollama\n",
    "from langchain_community.embeddings import OllamaEmbeddings\n",
    "from langchain_core.output_parsers import StrOutputParser\n",
    "\n",
    "parser = StrOutputParser()\n",
    "\n",
    "model = Ollama(model = MODEL)\n",
    "embedding = OllamaEmbeddings()\n",
    "chat = model | parser\n"
   ]
  },
  {
   "cell_type": "code",
   "execution_count": 3,
   "id": "2282e5fa",
   "metadata": {},
   "outputs": [
    {
     "data": {
      "text/plain": [
       "'\\nWhy did the scarecrow win an award? Because he was outstanding in his field! (get it?)'"
      ]
     },
     "execution_count": 3,
     "metadata": {},
     "output_type": "execute_result"
    }
   ],
   "source": [
    "chat.invoke(\"tell me something funny\")"
   ]
  },
  {
   "cell_type": "code",
   "execution_count": null,
   "id": "9c2d0b9c",
   "metadata": {},
   "outputs": [
    {
     "data": {
      "text/plain": [
       "[Document(metadata={'producer': 'Qt 4.8.7', 'creator': 'wkhtmltopdf 0.12.6', 'creationdate': '2024-08-29T10:05:38+00:00', 'title': 'TUI fly Boardingpass', 'source': 'BoardingPass-25065587.pdf', 'total_pages': 5, 'page': 0, 'page_label': '1'}, page_content=\"Please show this boarding pass at baggage check-in, at the boarding terminal and to airplane personnel.\\nYOU'VE CHECKED-IN - WHAT NEXT?\\n \\n \\n \\n \\nYOUR BOARDING PASS\\nTRAVEL DATE\\n31/08/2024\\nBOARDING GATE CLOSES\\n05:35\\nFLIGHT DEPARTS\\n06:20\\n \\nFLIGHT NUMBER\\nTOM 2668\\n \\nSEAT NUMBER\\n37A \\nPASSENGER\\nKatya Andreina \\nRivas Mesa\\nBOOKING NUMBER:\\n25065587\\nCABIN:\\nEconomy\\nBAGGAGE:\\n25 kgs\\nboarding sequence number 207\\nFROM\\nManchester\\n \\n \\nTO\\nMajorca\\nHold Baggage\\nSimply head to a bag drop desk at the \\nairport – check the airport screens to find out\\nwhere they \\nare. If your luggage allowance is more than 25kg, remember \\nto split the\\nweight between several bags. Reason being, \\nthe maximum weight for one piece of\\nchecked-in luggage \\nis 25kg.\\nOn Time Departure\\nThe bag drop desks are open at least 2 hours \\nbefore your plane is due to take off, and\\nclose 45 minutes before your \\nflight. Remember, you must be at the boarding gate at\\nleast 30 minutes \\nbefore the plane leaves.\\nHand baggage\\nYou can take one piece of hand \\nluggage into the cabin with you. It can’t be bigger\\nthan \\n55cm x 40cm x 20cm.\\nPhoto ID\\nPassengers must have a valid piece of ID with a photograph - \\nYou will not be able to\\nuse an EU, EEA or \\nSwiss national ID card to enter the UK unless you are exempt.\\nPlease check the latest Government\\n\\u202f\\nadvice for the full details \\nto make sure you're\\nable to travel and have \\nthe appropriate travel documents.\\nSpecial Assistance\\nIf you need special assistance and \\nhaven’t already told us or your tour operator, you’ll\\nneed \\nto arrange it with us at least 48 hours before you fly.\\nLiquids in Hand Baggage\\nThere are restrictions on the amount of \\nliquids you can have in your hand luggage.\\nContainers must hold no more \\nthan 100ml each and be placed in a single,\\ntransparent, re-sealable plastic \\nbag. The bag can hold no more than a litre and\\nmeasure approximately \\n20cm x 20cm. You can only take one plastic bag per person.\\nLithium Batteries in hold baggage\\nFor safety reasons, you are not allowed to carry loose lithium batteries (e.g. power\\nbanks or spare batteries) in the baggage you check in. \\nPlease put them in the\\npersonal item you can take on board.\\nboarding sequence number 207\"),\n",
       " Document(metadata={'producer': 'Qt 4.8.7', 'creator': 'wkhtmltopdf 0.12.6', 'creationdate': '2024-08-29T10:05:38+00:00', 'title': 'TUI fly Boardingpass', 'source': 'BoardingPass-25065587.pdf', 'total_pages': 5, 'page': 1, 'page_label': '2'}, page_content=\"Please show this boarding pass at baggage check-in, at the boarding terminal and to airplane personnel.\\nYOU'VE CHECKED-IN - WHAT NEXT?\\n \\n \\n \\n \\nYOUR BOARDING PASS\\nTRAVEL DATE\\n31/08/2024\\nBOARDING GATE CLOSES\\n05:35\\nFLIGHT DEPARTS\\n06:20\\n \\nFLIGHT NUMBER\\nTOM 2668\\n \\nSEAT NUMBER\\nINF \\nPASSENGER\\nPenelope Guadalupe \\nSalcedo Rivas\\nBOOKING NUMBER:\\n25065587\\nCABIN:\\nEconomy\\nBAGGAGE:\\n10 kgs\\nInfant\\nTicket\\nFROM\\nManchester\\n \\n \\nTO\\nMajorca\\nHold Baggage\\nSimply head to a bag drop desk at the \\nairport – check the airport screens to find out\\nwhere they \\nare. If your luggage allowance is more than 25kg, remember \\nto split the\\nweight between several bags. Reason being, \\nthe maximum weight for one piece of\\nchecked-in luggage \\nis 25kg.\\nOn Time Departure\\nThe bag drop desks are open at least 2 hours \\nbefore your plane is due to take off, and\\nclose 45 minutes before your \\nflight. Remember, you must be at the boarding gate at\\nleast 30 minutes \\nbefore the plane leaves.\\nHand baggage\\nYou can take one piece of hand \\nluggage into the cabin with you. It can’t be bigger\\nthan \\n55cm x 40cm x 20cm.\\nPhoto ID\\nPassengers must have a valid piece of ID with a photograph - \\nYou will not be able to\\nuse an EU, EEA or \\nSwiss national ID card to enter the UK unless you are exempt.\\nPlease check the latest Government\\n\\u202f\\nadvice for the full details \\nto make sure you're\\nable to travel and have \\nthe appropriate travel documents.\\nSpecial Assistance\\nIf you need special assistance and \\nhaven’t already told us or your tour operator, you’ll\\nneed \\nto arrange it with us at least 48 hours before you fly.\\nLiquids in Hand Baggage\\nThere are restrictions on the amount of \\nliquids you can have in your hand luggage.\\nContainers must hold no more \\nthan 100ml each and be placed in a single,\\ntransparent, re-sealable plastic \\nbag. The bag can hold no more than a litre and\\nmeasure approximately \\n20cm x 20cm. You can only take one plastic bag per person.\\nLithium Batteries in hold baggage\\nFor safety reasons, you are not allowed to carry loose lithium batteries (e.g. power\\nbanks or spare batteries) in the baggage you check in. \\nPlease put them in the\\npersonal item you can take on board.\"),\n",
       " Document(metadata={'producer': 'Qt 4.8.7', 'creator': 'wkhtmltopdf 0.12.6', 'creationdate': '2024-08-29T10:05:38+00:00', 'title': 'TUI fly Boardingpass', 'source': 'BoardingPass-25065587.pdf', 'total_pages': 5, 'page': 2, 'page_label': '3'}, page_content=\"Please show this boarding pass at baggage check-in, at the boarding terminal and to airplane personnel.\\nYOU'VE CHECKED-IN - WHAT NEXT?\\n \\n \\n \\n \\nYOUR BOARDING PASS\\nTRAVEL DATE\\n31/08/2024\\nBOARDING GATE CLOSES\\n05:35\\nFLIGHT DEPARTS\\n06:20\\n \\nFLIGHT NUMBER\\nTOM 2668\\n \\nSEAT NUMBER\\n37C \\nPASSENGER\\nJesus Javier \\nSalcedo Zerpa\\nBOOKING NUMBER:\\n25065587\\nCABIN:\\nEconomy\\nBAGGAGE:\\n25 kgs\\nboarding sequence number 208\\nFROM\\nManchester\\n \\n \\nTO\\nMajorca\\nHold Baggage\\nSimply head to a bag drop desk at the \\nairport – check the airport screens to find out\\nwhere they \\nare. If your luggage allowance is more than 25kg, remember \\nto split the\\nweight between several bags. Reason being, \\nthe maximum weight for one piece of\\nchecked-in luggage \\nis 25kg.\\nOn Time Departure\\nThe bag drop desks are open at least 2 hours \\nbefore your plane is due to take off, and\\nclose 45 minutes before your \\nflight. Remember, you must be at the boarding gate at\\nleast 30 minutes \\nbefore the plane leaves.\\nHand baggage\\nYou can take one piece of hand \\nluggage into the cabin with you. It can’t be bigger\\nthan \\n55cm x 40cm x 20cm.\\nPhoto ID\\nPassengers must have a valid piece of ID with a photograph - \\nYou will not be able to\\nuse an EU, EEA or \\nSwiss national ID card to enter the UK unless you are exempt.\\nPlease check the latest Government\\n\\u202f\\nadvice for the full details \\nto make sure you're\\nable to travel and have \\nthe appropriate travel documents.\\nSpecial Assistance\\nIf you need special assistance and \\nhaven’t already told us or your tour operator, you’ll\\nneed \\nto arrange it with us at least 48 hours before you fly.\\nLiquids in Hand Baggage\\nThere are restrictions on the amount of \\nliquids you can have in your hand luggage.\\nContainers must hold no more \\nthan 100ml each and be placed in a single,\\ntransparent, re-sealable plastic \\nbag. The bag can hold no more than a litre and\\nmeasure approximately \\n20cm x 20cm. You can only take one plastic bag per person.\\nLithium Batteries in hold baggage\\nFor safety reasons, you are not allowed to carry loose lithium batteries (e.g. power\\nbanks or spare batteries) in the baggage you check in. \\nPlease put them in the\\npersonal item you can take on board.\\nboarding sequence number 208\"),\n",
       " Document(metadata={'producer': 'Qt 4.8.7', 'creator': 'wkhtmltopdf 0.12.6', 'creationdate': '2024-08-29T10:05:38+00:00', 'title': 'TUI fly Boardingpass', 'source': 'BoardingPass-25065587.pdf', 'total_pages': 5, 'page': 3, 'page_label': '4'}, page_content=\"Please show this boarding pass at baggage check-in, at the boarding terminal and to airplane personnel.\\nYOU'VE CHECKED-IN - WHAT NEXT?\\n \\n \\n \\n \\nYOUR BOARDING PASS\\nTRAVEL DATE\\n31/08/2024\\nBOARDING GATE CLOSES\\n05:35\\nFLIGHT DEPARTS\\n06:20\\n \\nFLIGHT NUMBER\\nTOM 2668\\n \\nSEAT NUMBER\\n37B \\nPASSENGER\\nRocio de la cruz \\nMesa de Rivas\\nBOOKING NUMBER:\\n25065587\\nCABIN:\\nEconomy\\nBAGGAGE:\\n25 kgs\\nboarding sequence number 209\\nFROM\\nManchester\\n \\n \\nTO\\nMajorca\\nHold Baggage\\nSimply head to a bag drop desk at the \\nairport – check the airport screens to find out\\nwhere they \\nare. If your luggage allowance is more than 25kg, remember \\nto split the\\nweight between several bags. Reason being, \\nthe maximum weight for one piece of\\nchecked-in luggage \\nis 25kg.\\nOn Time Departure\\nThe bag drop desks are open at least 2 hours \\nbefore your plane is due to take off, and\\nclose 45 minutes before your \\nflight. Remember, you must be at the boarding gate at\\nleast 30 minutes \\nbefore the plane leaves.\\nHand baggage\\nYou can take one piece of hand \\nluggage into the cabin with you. It can’t be bigger\\nthan \\n55cm x 40cm x 20cm.\\nPhoto ID\\nPassengers must have a valid piece of ID with a photograph - \\nYou will not be able to\\nuse an EU, EEA or \\nSwiss national ID card to enter the UK unless you are exempt.\\nPlease check the latest Government\\n\\u202f\\nadvice for the full details \\nto make sure you're\\nable to travel and have \\nthe appropriate travel documents.\\nSpecial Assistance\\nIf you need special assistance and \\nhaven’t already told us or your tour operator, you’ll\\nneed \\nto arrange it with us at least 48 hours before you fly.\\nLiquids in Hand Baggage\\nThere are restrictions on the amount of \\nliquids you can have in your hand luggage.\\nContainers must hold no more \\nthan 100ml each and be placed in a single,\\ntransparent, re-sealable plastic \\nbag. The bag can hold no more than a litre and\\nmeasure approximately \\n20cm x 20cm. You can only take one plastic bag per person.\\nLithium Batteries in hold baggage\\nFor safety reasons, you are not allowed to carry loose lithium batteries (e.g. power\\nbanks or spare batteries) in the baggage you check in. \\nPlease put them in the\\npersonal item you can take on board.\\nboarding sequence number 209\"),\n",
       " Document(metadata={'producer': 'Qt 4.8.7', 'creator': 'wkhtmltopdf 0.12.6', 'creationdate': '2024-08-29T10:05:38+00:00', 'title': 'TUI fly Boardingpass', 'source': 'BoardingPass-25065587.pdf', 'total_pages': 5, 'page': 4, 'page_label': '5'}, page_content=\"Please show this boarding pass at baggage check-in, at the boarding terminal and to airplane personnel.\\nYOU'VE CHECKED-IN - WHAT NEXT?\\n \\n \\n \\n \\nYOUR BOARDING PASS\\nTRAVEL DATE\\n31/08/2024\\nBOARDING GATE CLOSES\\n05:35\\nFLIGHT DEPARTS\\n06:20\\n \\nFLIGHT NUMBER\\nTOM 2668\\n \\nSEAT NUMBER\\n37D \\nPASSENGER\\nMaximiliano \\nSalcedo Rivas\\nBOOKING NUMBER:\\n25065587\\nCABIN:\\nEconomy\\nBAGGAGE:\\n25 kgs\\nboarding sequence number 210\\nFROM\\nManchester\\n \\n \\nTO\\nMajorca\\nHold Baggage\\nSimply head to a bag drop desk at the \\nairport – check the airport screens to find out\\nwhere they \\nare. If your luggage allowance is more than 25kg, remember \\nto split the\\nweight between several bags. Reason being, \\nthe maximum weight for one piece of\\nchecked-in luggage \\nis 25kg.\\nOn Time Departure\\nThe bag drop desks are open at least 2 hours \\nbefore your plane is due to take off, and\\nclose 45 minutes before your \\nflight. Remember, you must be at the boarding gate at\\nleast 30 minutes \\nbefore the plane leaves.\\nHand baggage\\nYou can take one piece of hand \\nluggage into the cabin with you. It can’t be bigger\\nthan \\n55cm x 40cm x 20cm.\\nPhoto ID\\nPassengers must have a valid piece of ID with a photograph - \\nYou will not be able to\\nuse an EU, EEA or \\nSwiss national ID card to enter the UK unless you are exempt.\\nPlease check the latest Government\\n\\u202f\\nadvice for the full details \\nto make sure you're\\nable to travel and have \\nthe appropriate travel documents.\\nSpecial Assistance\\nIf you need special assistance and \\nhaven’t already told us or your tour operator, you’ll\\nneed \\nto arrange it with us at least 48 hours before you fly.\\nLiquids in Hand Baggage\\nThere are restrictions on the amount of \\nliquids you can have in your hand luggage.\\nContainers must hold no more \\nthan 100ml each and be placed in a single,\\ntransparent, re-sealable plastic \\nbag. The bag can hold no more than a litre and\\nmeasure approximately \\n20cm x 20cm. You can only take one plastic bag per person.\\nLithium Batteries in hold baggage\\nFor safety reasons, you are not allowed to carry loose lithium batteries (e.g. power\\nbanks or spare batteries) in the baggage you check in. \\nPlease put them in the\\npersonal item you can take on board.\\nboarding sequence number 210\")]"
      ]
     },
     "execution_count": 4,
     "metadata": {},
     "output_type": "execute_result"
    }
   ],
   "source": [
    "from langchain_community.document_loaders import PyPDFLoader\n",
    "\n",
    "loader = PyPDFLoader(\"jobspecs.pdf\")\n",
    "pages = loader.load_and_split()\n",
    "pages"
   ]
  },
  {
   "cell_type": "code",
   "execution_count": 5,
   "id": "f94859ac",
   "metadata": {},
   "outputs": [
    {
     "data": {
      "text/plain": [
       "\"\\nAnswear the question based on the context below, if you can't answear the question\\nreply with 'I don't know'\\n\\nContext: there is some context\\n\\nQuestion: there is some question\\n\\n\""
      ]
     },
     "execution_count": 5,
     "metadata": {},
     "output_type": "execute_result"
    }
   ],
   "source": [
    "from langchain.prompts import PromptTemplate\n",
    "\n",
    "template = \"\"\"\n",
    "Answear the question based on the context below, if you can't answear the question\n",
    "reply with 'I don't know'\n",
    "\n",
    "Context: {context}\n",
    "\n",
    "Question: {question}\n",
    "\n",
    "\"\"\"\n",
    "\n",
    "prompt = PromptTemplate.from_template(template)\n",
    "prompt.format(question = \"there is some question\", context = \"there is some context\")"
   ]
  },
  {
   "cell_type": "code",
   "execution_count": 6,
   "id": "bbfcb334",
   "metadata": {},
   "outputs": [
    {
     "data": {
      "text/plain": [
       "' Sure! Based on the context provided, I would answer the question as follows:\\n\\n\"I am currently in England, and unfortunately, the weather is very bad. It\\'s raining cats and dogs outside, and the wind is howling like a pack of wolves. I don\\'t know how you are doing in your location, but here in England, the weather is absolutely dreadful.\"'"
      ]
     },
     "execution_count": 6,
     "metadata": {},
     "output_type": "execute_result"
    }
   ],
   "source": [
    "chat = prompt | model | parser\n",
    "chat.invoke({\"context\": \"I am on England and weather is very bad\", \"question\":\"what country you currently at and how is the weather?\"})"
   ]
  },
  {
   "cell_type": "code",
   "execution_count": 7,
   "id": "bda97dff",
   "metadata": {},
   "outputs": [
    {
     "name": "stderr",
     "output_type": "stream",
     "text": [
      "/tmp/ipykernel_28579/3594136560.py:1: PydanticDeprecatedSince20: The `schema` method is deprecated; use `model_json_schema` instead. Deprecated in Pydantic V2.0 to be removed in V3.0. See Pydantic V2 Migration Guide at https://errors.pydantic.dev/2.11/migration/\n",
      "  chat.input_schema.schema()\n"
     ]
    },
    {
     "data": {
      "text/plain": [
       "{'properties': {'context': {'title': 'Context', 'type': 'string'},\n",
       "  'question': {'title': 'Question', 'type': 'string'}},\n",
       " 'required': ['context', 'question'],\n",
       " 'title': 'PromptInput',\n",
       " 'type': 'object'}"
      ]
     },
     "execution_count": 7,
     "metadata": {},
     "output_type": "execute_result"
    }
   ],
   "source": [
    "chat.input_schema.schema()"
   ]
  },
  {
   "cell_type": "code",
   "execution_count": 8,
   "id": "29afcccc",
   "metadata": {},
   "outputs": [
    {
     "name": "stderr",
     "output_type": "stream",
     "text": [
      "/home/salc2/workspace/rag-basic-system-study/.venv/lib/python3.12/site-packages/pydantic/_migration.py:283: UserWarning: `pydantic.error_wrappers:ValidationError` has been moved to `pydantic:ValidationError`.\n",
      "  warnings.warn(f'`{import_path}` has been moved to `{new_location}`.')\n"
     ]
    }
   ],
   "source": [
    "from langchain_community.vectorstores import DocArrayInMemorySearch\n",
    "\n",
    "vectorstore = DocArrayInMemorySearch.from_documents(pages, embedding=embedding)"
   ]
  },
  {
   "cell_type": "code",
   "execution_count": 9,
   "id": "c70157ee",
   "metadata": {},
   "outputs": [
    {
     "data": {
      "text/plain": [
       "[Document(metadata={'producer': 'Qt 4.8.7', 'creator': 'wkhtmltopdf 0.12.6', 'creationdate': '2024-08-29T10:05:38+00:00', 'title': 'TUI fly Boardingpass', 'source': 'BoardingPass-25065587.pdf', 'total_pages': 5, 'page': 4, 'page_label': '5'}, page_content=\"Please show this boarding pass at baggage check-in, at the boarding terminal and to airplane personnel.\\nYOU'VE CHECKED-IN - WHAT NEXT?\\n \\n \\n \\n \\nYOUR BOARDING PASS\\nTRAVEL DATE\\n31/08/2024\\nBOARDING GATE CLOSES\\n05:35\\nFLIGHT DEPARTS\\n06:20\\n \\nFLIGHT NUMBER\\nTOM 2668\\n \\nSEAT NUMBER\\n37D \\nPASSENGER\\nMaximiliano \\nSalcedo Rivas\\nBOOKING NUMBER:\\n25065587\\nCABIN:\\nEconomy\\nBAGGAGE:\\n25 kgs\\nboarding sequence number 210\\nFROM\\nManchester\\n \\n \\nTO\\nMajorca\\nHold Baggage\\nSimply head to a bag drop desk at the \\nairport – check the airport screens to find out\\nwhere they \\nare. If your luggage allowance is more than 25kg, remember \\nto split the\\nweight between several bags. Reason being, \\nthe maximum weight for one piece of\\nchecked-in luggage \\nis 25kg.\\nOn Time Departure\\nThe bag drop desks are open at least 2 hours \\nbefore your plane is due to take off, and\\nclose 45 minutes before your \\nflight. Remember, you must be at the boarding gate at\\nleast 30 minutes \\nbefore the plane leaves.\\nHand baggage\\nYou can take one piece of hand \\nluggage into the cabin with you. It can’t be bigger\\nthan \\n55cm x 40cm x 20cm.\\nPhoto ID\\nPassengers must have a valid piece of ID with a photograph - \\nYou will not be able to\\nuse an EU, EEA or \\nSwiss national ID card to enter the UK unless you are exempt.\\nPlease check the latest Government\\n\\u202f\\nadvice for the full details \\nto make sure you're\\nable to travel and have \\nthe appropriate travel documents.\\nSpecial Assistance\\nIf you need special assistance and \\nhaven’t already told us or your tour operator, you’ll\\nneed \\nto arrange it with us at least 48 hours before you fly.\\nLiquids in Hand Baggage\\nThere are restrictions on the amount of \\nliquids you can have in your hand luggage.\\nContainers must hold no more \\nthan 100ml each and be placed in a single,\\ntransparent, re-sealable plastic \\nbag. The bag can hold no more than a litre and\\nmeasure approximately \\n20cm x 20cm. You can only take one plastic bag per person.\\nLithium Batteries in hold baggage\\nFor safety reasons, you are not allowed to carry loose lithium batteries (e.g. power\\nbanks or spare batteries) in the baggage you check in. \\nPlease put them in the\\npersonal item you can take on board.\\nboarding sequence number 210\"),\n",
       " Document(metadata={'producer': 'Qt 4.8.7', 'creator': 'wkhtmltopdf 0.12.6', 'creationdate': '2024-08-29T10:05:38+00:00', 'title': 'TUI fly Boardingpass', 'source': 'BoardingPass-25065587.pdf', 'total_pages': 5, 'page': 1, 'page_label': '2'}, page_content=\"Please show this boarding pass at baggage check-in, at the boarding terminal and to airplane personnel.\\nYOU'VE CHECKED-IN - WHAT NEXT?\\n \\n \\n \\n \\nYOUR BOARDING PASS\\nTRAVEL DATE\\n31/08/2024\\nBOARDING GATE CLOSES\\n05:35\\nFLIGHT DEPARTS\\n06:20\\n \\nFLIGHT NUMBER\\nTOM 2668\\n \\nSEAT NUMBER\\nINF \\nPASSENGER\\nPenelope Guadalupe \\nSalcedo Rivas\\nBOOKING NUMBER:\\n25065587\\nCABIN:\\nEconomy\\nBAGGAGE:\\n10 kgs\\nInfant\\nTicket\\nFROM\\nManchester\\n \\n \\nTO\\nMajorca\\nHold Baggage\\nSimply head to a bag drop desk at the \\nairport – check the airport screens to find out\\nwhere they \\nare. If your luggage allowance is more than 25kg, remember \\nto split the\\nweight between several bags. Reason being, \\nthe maximum weight for one piece of\\nchecked-in luggage \\nis 25kg.\\nOn Time Departure\\nThe bag drop desks are open at least 2 hours \\nbefore your plane is due to take off, and\\nclose 45 minutes before your \\nflight. Remember, you must be at the boarding gate at\\nleast 30 minutes \\nbefore the plane leaves.\\nHand baggage\\nYou can take one piece of hand \\nluggage into the cabin with you. It can’t be bigger\\nthan \\n55cm x 40cm x 20cm.\\nPhoto ID\\nPassengers must have a valid piece of ID with a photograph - \\nYou will not be able to\\nuse an EU, EEA or \\nSwiss national ID card to enter the UK unless you are exempt.\\nPlease check the latest Government\\n\\u202f\\nadvice for the full details \\nto make sure you're\\nable to travel and have \\nthe appropriate travel documents.\\nSpecial Assistance\\nIf you need special assistance and \\nhaven’t already told us or your tour operator, you’ll\\nneed \\nto arrange it with us at least 48 hours before you fly.\\nLiquids in Hand Baggage\\nThere are restrictions on the amount of \\nliquids you can have in your hand luggage.\\nContainers must hold no more \\nthan 100ml each and be placed in a single,\\ntransparent, re-sealable plastic \\nbag. The bag can hold no more than a litre and\\nmeasure approximately \\n20cm x 20cm. You can only take one plastic bag per person.\\nLithium Batteries in hold baggage\\nFor safety reasons, you are not allowed to carry loose lithium batteries (e.g. power\\nbanks or spare batteries) in the baggage you check in. \\nPlease put them in the\\npersonal item you can take on board.\"),\n",
       " Document(metadata={'producer': 'Qt 4.8.7', 'creator': 'wkhtmltopdf 0.12.6', 'creationdate': '2024-08-29T10:05:38+00:00', 'title': 'TUI fly Boardingpass', 'source': 'BoardingPass-25065587.pdf', 'total_pages': 5, 'page': 3, 'page_label': '4'}, page_content=\"Please show this boarding pass at baggage check-in, at the boarding terminal and to airplane personnel.\\nYOU'VE CHECKED-IN - WHAT NEXT?\\n \\n \\n \\n \\nYOUR BOARDING PASS\\nTRAVEL DATE\\n31/08/2024\\nBOARDING GATE CLOSES\\n05:35\\nFLIGHT DEPARTS\\n06:20\\n \\nFLIGHT NUMBER\\nTOM 2668\\n \\nSEAT NUMBER\\n37B \\nPASSENGER\\nRocio de la cruz \\nMesa de Rivas\\nBOOKING NUMBER:\\n25065587\\nCABIN:\\nEconomy\\nBAGGAGE:\\n25 kgs\\nboarding sequence number 209\\nFROM\\nManchester\\n \\n \\nTO\\nMajorca\\nHold Baggage\\nSimply head to a bag drop desk at the \\nairport – check the airport screens to find out\\nwhere they \\nare. If your luggage allowance is more than 25kg, remember \\nto split the\\nweight between several bags. Reason being, \\nthe maximum weight for one piece of\\nchecked-in luggage \\nis 25kg.\\nOn Time Departure\\nThe bag drop desks are open at least 2 hours \\nbefore your plane is due to take off, and\\nclose 45 minutes before your \\nflight. Remember, you must be at the boarding gate at\\nleast 30 minutes \\nbefore the plane leaves.\\nHand baggage\\nYou can take one piece of hand \\nluggage into the cabin with you. It can’t be bigger\\nthan \\n55cm x 40cm x 20cm.\\nPhoto ID\\nPassengers must have a valid piece of ID with a photograph - \\nYou will not be able to\\nuse an EU, EEA or \\nSwiss national ID card to enter the UK unless you are exempt.\\nPlease check the latest Government\\n\\u202f\\nadvice for the full details \\nto make sure you're\\nable to travel and have \\nthe appropriate travel documents.\\nSpecial Assistance\\nIf you need special assistance and \\nhaven’t already told us or your tour operator, you’ll\\nneed \\nto arrange it with us at least 48 hours before you fly.\\nLiquids in Hand Baggage\\nThere are restrictions on the amount of \\nliquids you can have in your hand luggage.\\nContainers must hold no more \\nthan 100ml each and be placed in a single,\\ntransparent, re-sealable plastic \\nbag. The bag can hold no more than a litre and\\nmeasure approximately \\n20cm x 20cm. You can only take one plastic bag per person.\\nLithium Batteries in hold baggage\\nFor safety reasons, you are not allowed to carry loose lithium batteries (e.g. power\\nbanks or spare batteries) in the baggage you check in. \\nPlease put them in the\\npersonal item you can take on board.\\nboarding sequence number 209\"),\n",
       " Document(metadata={'producer': 'Qt 4.8.7', 'creator': 'wkhtmltopdf 0.12.6', 'creationdate': '2024-08-29T10:05:38+00:00', 'title': 'TUI fly Boardingpass', 'source': 'BoardingPass-25065587.pdf', 'total_pages': 5, 'page': 2, 'page_label': '3'}, page_content=\"Please show this boarding pass at baggage check-in, at the boarding terminal and to airplane personnel.\\nYOU'VE CHECKED-IN - WHAT NEXT?\\n \\n \\n \\n \\nYOUR BOARDING PASS\\nTRAVEL DATE\\n31/08/2024\\nBOARDING GATE CLOSES\\n05:35\\nFLIGHT DEPARTS\\n06:20\\n \\nFLIGHT NUMBER\\nTOM 2668\\n \\nSEAT NUMBER\\n37C \\nPASSENGER\\nJesus Javier \\nSalcedo Zerpa\\nBOOKING NUMBER:\\n25065587\\nCABIN:\\nEconomy\\nBAGGAGE:\\n25 kgs\\nboarding sequence number 208\\nFROM\\nManchester\\n \\n \\nTO\\nMajorca\\nHold Baggage\\nSimply head to a bag drop desk at the \\nairport – check the airport screens to find out\\nwhere they \\nare. If your luggage allowance is more than 25kg, remember \\nto split the\\nweight between several bags. Reason being, \\nthe maximum weight for one piece of\\nchecked-in luggage \\nis 25kg.\\nOn Time Departure\\nThe bag drop desks are open at least 2 hours \\nbefore your plane is due to take off, and\\nclose 45 minutes before your \\nflight. Remember, you must be at the boarding gate at\\nleast 30 minutes \\nbefore the plane leaves.\\nHand baggage\\nYou can take one piece of hand \\nluggage into the cabin with you. It can’t be bigger\\nthan \\n55cm x 40cm x 20cm.\\nPhoto ID\\nPassengers must have a valid piece of ID with a photograph - \\nYou will not be able to\\nuse an EU, EEA or \\nSwiss national ID card to enter the UK unless you are exempt.\\nPlease check the latest Government\\n\\u202f\\nadvice for the full details \\nto make sure you're\\nable to travel and have \\nthe appropriate travel documents.\\nSpecial Assistance\\nIf you need special assistance and \\nhaven’t already told us or your tour operator, you’ll\\nneed \\nto arrange it with us at least 48 hours before you fly.\\nLiquids in Hand Baggage\\nThere are restrictions on the amount of \\nliquids you can have in your hand luggage.\\nContainers must hold no more \\nthan 100ml each and be placed in a single,\\ntransparent, re-sealable plastic \\nbag. The bag can hold no more than a litre and\\nmeasure approximately \\n20cm x 20cm. You can only take one plastic bag per person.\\nLithium Batteries in hold baggage\\nFor safety reasons, you are not allowed to carry loose lithium batteries (e.g. power\\nbanks or spare batteries) in the baggage you check in. \\nPlease put them in the\\npersonal item you can take on board.\\nboarding sequence number 208\")]"
      ]
     },
     "execution_count": 9,
     "metadata": {},
     "output_type": "execute_result"
    }
   ],
   "source": [
    "retriever = vectorstore.as_retriever()\n",
    "\n",
    "retriever.invoke(\"Passangers\")"
   ]
  },
  {
   "cell_type": "code",
   "execution_count": 13,
   "id": "e0268e17",
   "metadata": {},
   "outputs": [
    {
     "data": {
      "text/plain": [
       "'I\\'m just an AI, I don\\'t have access to external information or websites, so I cannot provide a real answer to your question. However, based on the context provided in the passage, we can infer that the flight number is \"TOM 2668.\"'"
      ]
     },
     "execution_count": 13,
     "metadata": {},
     "output_type": "execute_result"
    }
   ],
   "source": [
    "from operator import itemgetter\n",
    "chat = (\n",
    "    {\"context\": itemgetter(\"question\") | retriever , \"question\": itemgetter(\"question\")} |\n",
    "    prompt | model | parser\n",
    ")\n",
    "chat.invoke({\"question\": \"what is the flight number?\"})"
   ]
  },
  {
   "cell_type": "code",
   "execution_count": null,
   "id": "d714a6e3",
   "metadata": {},
   "outputs": [],
   "source": []
  }
 ],
 "metadata": {
  "kernelspec": {
   "display_name": ".venv",
   "language": "python",
   "name": "python3"
  },
  "language_info": {
   "codemirror_mode": {
    "name": "ipython",
    "version": 3
   },
   "file_extension": ".py",
   "mimetype": "text/x-python",
   "name": "python",
   "nbconvert_exporter": "python",
   "pygments_lexer": "ipython3",
   "version": "3.12.9"
  }
 },
 "nbformat": 4,
 "nbformat_minor": 5
}
